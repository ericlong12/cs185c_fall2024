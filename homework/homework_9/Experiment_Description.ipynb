{
 "cells": [
  {
   "cell_type": "markdown",
   "id": "9dc175c8-f744-4655-9037-b313c486c951",
   "metadata": {},
   "source": [
    "# Tsunami Travel Time Across the Artic Ocean Basin\n",
    "\n"
   ]
  },
  {
   "cell_type": "markdown",
   "id": "b5d911ab-fb07-46cc-baed-2946db97c590",
   "metadata": {},
   "source": [
    "This modeling project is an example to demonstrate the scope, files, and organization of a class project for CS 185C on tsunami propagation in the Arctic Ocean.\n"
   ]
  },
  {
   "cell_type": "markdown",
   "id": "34ec5686-9386-4f7e-8c6b-3f2f2caf4f34",
   "metadata": {},
   "source": [
    "# Project Description\n",
    "\n"
   ]
  },
  {
   "cell_type": "markdown",
   "id": "8fffb901-2bb9-463c-ab2f-0d4995a3341e",
   "metadata": {},
   "source": [
    "\n",
    "In this project, I will investigate how fast a tsunami can travel across an ocean basin.\n",
    "\n",
    "How fast does a tsunami travel across an ocean basin?\n",
    "\n",
    "The ocean basin I decided to pick is the Arctic Ocean as it is the smallest ocean basin and requires less data when plotting (I originally did the pacific ocean but it took way too long to load in data). To explore this I made a model grid covering the Artic region which covered 70°N to 85°N in latitude and from -156°W to -128°W in longitude. The bathymetry will be based on the GEBCO dataset that I have downloaded from the region. I will run  a simulation to model the propagation of a tsunami wave across this Artic Basin. I predict that differences in the bathymetry, like deep ocean trenches will influence the speed and behavior of the tsunami wave and expect that slower speeds will occur when in shallow areas because of the increased friction.\n",
    "\n",
    "\r\n",
    "For my initial conditions, I will use a lat sea surface with a wave disturbance to represent the tsunami. The model will use bathymetry data to simulate wave propagation for several hours and make it into a movie.py. Then I will track the tsunami wavefront and measure travel times across different parts of the basin\r\n"
   ]
  }
 ],
 "metadata": {
  "kernelspec": {
   "display_name": "Python 3 (ipykernel)",
   "language": "python",
   "name": "python3"
  },
  "language_info": {
   "codemirror_mode": {
    "name": "ipython",
    "version": 3
   },
   "file_extension": ".py",
   "mimetype": "text/x-python",
   "name": "python",
   "nbconvert_exporter": "python",
   "pygments_lexer": "ipython3",
   "version": "3.12.4"
  }
 },
 "nbformat": 4,
 "nbformat_minor": 5
}
