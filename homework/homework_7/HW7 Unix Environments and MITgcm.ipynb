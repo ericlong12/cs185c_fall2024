{
 "cells": [
  {
   "cell_type": "markdown",
   "id": "ae587e5d-ad7d-42ad-9ca7-d064e2ef5f2f",
   "metadata": {},
   "source": [
    "# Homework 7: Unix Environments and MITgcm\n",
    "\n",
    "Name: Eric Long\n",
    "\n",
    "Date: 10/6/24\n",
    "\n",
    "#### Overview\n",
    "In this homework, you will install a Fortran compiler, download a recent version of the MIT General Circulation Model source code, and compile a verification model experiment."
   ]
  },
  {
   "cell_type": "markdown",
   "id": "8926c19c-ad19-419b-b2d9-6f7a1f7f8989",
   "metadata": {},
   "source": [
    "### Part 1: Download a Compiler\n",
    "To start this homework, begin by installing a Fortran compiler on your machine by following the instructions [HERE](https://profmikewood.github.io/ocean_modeling_book/getting_started/installing_compiler_and_mpi.html). Note that there are different installation instructions depending on whether your machine is a Mac or a PC. You do not need to complete the portion for using MPI at this time.\n",
    "\n",
    "When your download is complete, edit the following cell to outline which option you chose."
   ]
  },
  {
   "cell_type": "markdown",
   "id": "5f67dbc5-5e64-42d5-94c6-c01d20b1439b",
   "metadata": {},
   "source": [
    "change this cell to a markdown cell and update the following sentence:\n",
    "\n",
    "\"I am using a PC machine with the Windows operation system. I downloaded the Cygwin fortran compiler."
   ]
  },
  {
   "cell_type": "markdown",
   "id": "1cb79dc8-5d71-4126-b851-3af0c3a44027",
   "metadata": {},
   "source": [
    "### Part 2: Unix Commands\n",
    "Answer the following questions about Unix commands and their output on your machine. When you enter your Unix commands below, you can make a markdown code block using three ` symbols as follows:\n",
    "\n",
    "```\n",
    "unix code\n",
    "```"
   ]
  },
  {
   "cell_type": "markdown",
   "id": "520ecb33",
   "metadata": {},
   "source": [
    "Question 2.1: What is the path to your home directory? Enter the command you use to identify this directory and list the path."
   ]
  },
  {
   "cell_type": "markdown",
   "id": "39adac9d-8f99-4049-8abd-787460532e6f",
   "metadata": {},
   "source": [
    "change this cell to a Markdown cell and \n",
    "enter your code and path here\n",
    "\n",
    "Code:\n",
    "\n",
    "```\n",
    "echo $HOME\n",
    "```\n",
    "\n",
    "Path:\n",
    "/home/shell\r\n",
    "\n"
   ]
  },
  {
   "cell_type": "markdown",
   "id": "c98714f6",
   "metadata": {},
   "source": [
    "Question 2.2: What is your default \"profile script\" on your machine? What command can you use to list the hidden files in your home directory?"
   ]
  },
  {
   "cell_type": "markdown",
   "id": "3bd26be6-cb37-4017-8676-ac50a23937b2",
   "metadata": {},
   "source": [
    "change this cell to a Markdown cell and \n",
    "enter your script and code here\n",
    "\n",
    "Command used:\n",
    "```\n",
    "ls -la ~\n",
    "```\n",
    "My default profile script is .bash_profile\n"
   ]
  },
  {
   "cell_type": "markdown",
   "id": "7ff6aefc",
   "metadata": {},
   "source": [
    "Question 2.3: Change your directory to the folder that you use to store files for this CS 185C class. Enter the commands you entered to move to this directory."
   ]
  },
  {
   "cell_type": "markdown",
   "id": "d8f2a0ae-16b9-42bf-8186-77a7246f0884",
   "metadata": {},
   "source": [
    "change this cell to a Markdown cell and \n",
    "enter your commands here\n",
    "\n",
    "```\n",
    "cd D:\\CS185C\n",
    "```\n"
   ]
  },
  {
   "cell_type": "markdown",
   "id": "a7dca3ed",
   "metadata": {},
   "source": [
    "### Part 3: MITgcm\n",
    "In this section, you will download a recent version of MITgcm. In your CS 185C directory, run the following command:\n",
    "\n",
    "```\n",
    "git clone https://github.com/MITgcm/MITgcm.git\n",
    "```\n",
    "\n",
    "This will clone the MITgcm code into your CS 185C repository next to other directories you have e.g. homework, project, etc. When your clone is complete, change directories into the MITgcm directory."
   ]
  },
  {
   "cell_type": "markdown",
   "id": "db1bc848-211a-476b-91e0-f8c9826341cd",
   "metadata": {},
   "source": [
    "The model source code is listed in the `model/src` directory. Enter a Unix command to list all of the files in this directory. Then, based on the file names, identify one script that aligns with a topic we have covered so far in CS 185C. What do you suppose this script will do in the model?"
   ]
  },
  {
   "cell_type": "markdown",
   "id": "b3dc5bcb-9d2d-4038-b8d9-5709daee795a",
   "metadata": {},
   "source": [
    "change this cell to a Markdown cell and \n",
    "enter your description here\n",
    "\n",
    "Clone the MITgcm code:\n",
    "```\n",
    "git clone https://github.com/MITgcm/MITgcm.git\r\n",
    "```\n",
    "\n",
    "Command to change directories:\n",
    "```\n",
    "cd MITgcm\n",
    "```\n",
    "\n",
    "Ccommand to list all of the files in this directory:\n",
    "````\n",
    "ls model/src\r",
    "````\n"
   ]
  },
  {
   "cell_type": "markdown",
   "id": "d4fef9c3-7407-47fb-b38a-a0b0cbbb040b",
   "metadata": {},
   "source": [
    "The script thermodynamics.F aligns with the thermodynamics lesson we had on week 6 of class. I think this script will help us calculate the thermodynamic processes for the ocean."
   ]
  },
  {
   "cell_type": "markdown",
   "id": "775df175",
   "metadata": {},
   "source": [
    "### Part 4: Compile a Model Tutorial"
   ]
  },
  {
   "cell_type": "markdown",
   "id": "1e2c4b43",
   "metadata": {},
   "source": [
    "Next, change your directory to the the `verification/tutorial_barotropic_gyre` directory and follow the instructions to compile a model *without* MPI [HERE](https://profmikewood.github.io/ocean_modeling_book/mitgcm/getting_started_with_MITgcm.html#compiling-without-mpi) for the barotropic gyre verification experiment.\n",
    "\n",
    "Note that you will need to identify the \"optfile\" for your machine. Notes on identifying this file are [HERE](https://profmikewood.github.io/ocean_modeling_book/mitgcm/choosing_an_optfile.html).\n",
    "\n",
    "When the compilation is complete, you should see the `mitgcmuv` (or `mitgcmuv.exe`) file in your `build` directory. Enter the command below you used to verify this file exists."
   ]
  },
  {
   "cell_type": "markdown",
   "id": "61bf7f3b-e717-42c8-98ec-a67895e9b954",
   "metadata": {},
   "source": [
    "edit this code cell with the command to ensure the mitgcmuv file exists\n",
    "\n",
    "Command used to verify that mitgcmuv exist:\n",
    "```\n",
    "ls mitgcmuv\n",
    "```\n",
    "\n",
    "Make sure that I am in the correct directory first.\n",
    "\n",
    "If you are verifying that this file exist as soon as you booted up the cygwin compiler then you can get into the correct directory by using the command\n",
    "\n",
    "cd /cygdrive/d/CS185C/MITgcm/verification/tutorial_barotropic_gyre/build/\n",
    "\n",
    "then after using that command then use ( ls mitgcmuv ) to verify\r\n"
   ]
  },
  {
   "cell_type": "markdown",
   "id": "6f1d01cb",
   "metadata": {},
   "source": [
    "If your compilation is successful - woohoo! We'll work on running the model and assessing the output in class after this homework is due."
   ]
  }
 ],
 "metadata": {
  "kernelspec": {
   "display_name": "Python 3 (ipykernel)",
   "language": "python",
   "name": "python3"
  },
  "language_info": {
   "codemirror_mode": {
    "name": "ipython",
    "version": 3
   },
   "file_extension": ".py",
   "mimetype": "text/x-python",
   "name": "python",
   "nbconvert_exporter": "python",
   "pygments_lexer": "ipython3",
   "version": "3.11.9"
  }
 },
 "nbformat": 4,
 "nbformat_minor": 5
}
