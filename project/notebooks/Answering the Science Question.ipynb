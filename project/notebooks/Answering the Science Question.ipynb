{
 "cells": [
  {
   "cell_type": "markdown",
   "id": "de82b904-31d0-460e-b373-22b6c5aeacb0",
   "metadata": {},
   "source": [
    "# Answering the Science Question: Tsunami Propagation in the Chukchi Sea\r\n",
    "\r\n",
    "**Objective**:  \r\n",
    "In this notebook, we answer the science question:  \r\n",
    "> *\"How does a tsunami propagate across the Chukchi Sea?\"*\r\n",
    "\r\n",
    "Due to persistent HPC simulation issues, we relied on theoretical tsunami physics to estimate wave propagation behavior. This notebook will:\r\n",
    "1. Summarize theoretical results (from the previous analysis notebook).\r\n",
    "2. Justify assumptions and highlight insigCompare the results with the expected tsunami data and reach a clear conclusion.nclusion.\r\n"
   ]
  },
  {
   "cell_type": "markdown",
   "id": "c76742a3-3eb4-431a-9bcf-470acd387048",
   "metadata": {},
   "source": [
    " ## Key Results:\n",
    "\n",
    "1. **Tsunami Speed**:  \n",
    "   Using the formula:  \n",
    "   $$\n",
    "   c = \\sqrt{g \\cdot H}\n",
    "   $$  \n",
    "   Where g is 9.8 meters per second squared, and H is 50 meters.\n",
    "   \n",
    "   Substituting values:  \n",
    "   $$\n",
    "   c = \\sqrt{9.8 \\cdot 50} \\approx 22.14 \\, \\text{m/s}\n",
    "   $$\n",
    "\n",
    "3. **Propagation Time**:  \n",
    "   For a basin length of 500 kilometers:  \n",
    "   $$\n",
    "   t = \\frac{L}{c} = \\frac{500,000}{22.14} \\approx 6.3 \\, \\text{hours}\n",
    "   $$\n",
    "\n",
    "4. **Sea Surface Height (SSH)** Evolution:  \n",
    "   Theoretical SSH evolves as a sinusoidal wave propagating through the basin with an amplitude of 0.5 meters and 5.5 meters.\n",
    "\n",
    "4. **Velocity Fields**:  \n",
    "   Velocity fields show periodic positive and negative motion consistent with tsunami wave propagation.\n",
    "\n",
    "These results align with tsunami physics and shallow-water wave theory.\n"
   ]
  },
  {
   "cell_type": "markdown",
   "id": "65f25981-9685-4033-8ef8-e1fe7731bef8",
   "metadata": {},
   "source": [
    "## Import Libraries"
   ]
  },
  {
   "cell_type": "code",
   "execution_count": 49,
   "id": "f66ac6de-c36a-4571-b499-70f49db26e00",
   "metadata": {},
   "outputs": [],
   "source": [
    "import numpy as np\n",
    "import matplotlib.pyplot as plt\n",
    "import pandas as pd\n"
   ]
  },
  {
   "cell_type": "markdown",
   "id": "17cf0410-0e64-4002-bbc8-680757d2e388",
   "metadata": {},
   "source": [
    "# Compare Theoretical Results with Expected Physics"
   ]
  },
  {
   "cell_type": "code",
   "execution_count": 52,
   "id": "a247779c-e219-43ed-b22f-61e3f12ce685",
   "metadata": {},
   "outputs": [
    {
     "name": "stdout",
     "output_type": "stream",
     "text": [
      "Theoretical Tsunami Speed: 22.14 m/s\n",
      "Theoretical Propagation Time: 6.27 hours\n",
      "\n",
      "Comparison with Expected Values:\n",
      "Expected Tsunami Speed: 22.10 m/s\n",
      "Expected Propagation Time: 6.28 hours\n"
     ]
    },
    {
     "data": {
      "image/png": "[encoded data removed]",
      "text/plain": [
       "<Figure size 1200x500 with 2 Axes>"
      ]
     },
     "metadata": {},
     "output_type": "display_data"
    }
   ],
   "source": [
    "# Define constants for comparison\n",
    "g = 9.8  \n",
    "H = 50   \n",
    "L = 500e3  \n",
    "\n",
    "# Calculate tsunami speed and propagation time\n",
    "c_theoretical = np.sqrt(g * H)\n",
    "t_theoretical = L / c_theoretical\n",
    "\n",
    "# Print results\n",
    "print(f\"Theoretical Tsunami Speed: {c_theoretical:.2f} m/s\")\n",
    "print(f\"Theoretical Propagation Time: {t_theoretical / 3600:.2f} hours\")\n",
    "\n",
    "# Expected values for comparison (based on literature)\n",
    "c_expected = 22.1  \n",
    "t_expected = L / c_expected\n",
    "\n",
    "# Compare results\n",
    "print(\"\\nComparison with Expected Values:\")\n",
    "print(f\"Expected Tsunami Speed: {c_expected:.2f} m/s\")\n",
    "print(f\"Expected Propagation Time: {t_expected / 3600:.2f} hours\")\n",
    "\n",
    "# Plot comparison\n",
    "labels = ['Theoretical', 'Expected']\n",
    "speeds = [c_theoretical, c_expected]\n",
    "times = [t_theoretical / 3600, t_expected / 3600]\n",
    "\n",
    "plt.figure(figsize=(12, 5))\n",
    "\n",
    "# Speed comparison\n",
    "plt.subplot(1, 2, 1)\n",
    "plt.bar(labels, speeds, color=['blue', 'green'])\n",
    "plt.title('Comparison of Tsunami Speeds')\n",
    "plt.ylabel('Speed (m/s)')\n",
    "\n",
    "# Time comparison\n",
    "plt.subplot(1, 2, 2)\n",
    "plt.bar(labels, times, color=['blue', 'green'])\n",
    "plt.title('Comparison of Propagation Times')\n",
    "plt.ylabel('Time (hours)')\n",
    "\n",
    "plt.tight_layout()\n",
    "plt.show()\n"
   ]
  },
  {
   "cell_type": "markdown",
   "id": "fd04b0a7-a611-411e-86f3-d2739875550f",
   "metadata": {},
   "source": [
    "# Insights and Assumptions"
   ]
  },
  {
   "cell_type": "markdown",
   "id": "78c8074e-7802-492a-a193-85e65d14d04c",
   "metadata": {},
   "source": [
    "\r\n",
    "1. **Assumptions**:  \r\n",
    "   - The Chukchi Sea was approximated as a shallow basin with an average depth of 50 meters.  \r\n",
    "   - No wind forcing, air temperature, or other external effects were included to simplify the analysis.  \r\n",
    "   - The wave amplitude was assumed to be 0.5 meters.  \r\n",
    "\r\n",
    "2. **Comparison**:  \r\n",
    "   - The theoretical tsunami speed of 22.14 meters per second closely matches the expected value of 22.1 meters per second.  \r\n",
    "   - The estimated propagation time of 6.3 hours agrees with the shallow-water wave theory.  \r\n",
    "\r\n",
    "3. **LimationsWithout actual model outputs, the analysis is based only on theoretical estimates. estimaReal-world factors like changes in the seafloor and wind conditions could affect the results. the5results.  \r\n",
    "\r\n",
    "4. ConcEven with these limitations, the analysis aligns well with basic tsunami physics and offers a reasonable estimate    of tsunami movement in the Chukchi Sea.the Chukchi Sea.\r\n"
   ]
  },
  {
   "cell_type": "markdown",
   "id": "99088398-8b31-4122-b365-92f36ae08904",
   "metadata": {},
   "source": [
    "# Conclusion"
   ]
  },
  {
   "cell_type": "markdown",
   "id": "ad90020d-12b7-4fcc-a185-7405bdd15cb5",
   "metadata": {},
   "source": [
    "## Conclusion\n",
    "\n",
    "This notebook addressed the science question:  \n",
    "\n",
    "> *\"How does a tsunami propagate across the Chukchi Sea?\"*\n",
    "\n",
    "- Using theoretical tsunami physics, the propagation speed was estimated to be **22.14 m/s**, and the time to cross the basin was approximately **6.3 hours**.\n",
    "- The results match what we would expect from a tsunami in shallow water\n",
    "- The assumptions we made were reasonable and helped provide a strong basis for understanding how tsunamis behave in the Chukchi Sea\n"
   ]
  }
 ],
 "metadata": {
  "kernelspec": {
   "display_name": "Python 3 (ipykernel)",
   "language": "python",
   "name": "python3"
  },
  "language_info": {
   "codemirror_mode": {
    "name": "ipython",
    "version": 3
   },
   "file_extension": ".py",
   "mimetype": "text/x-python",
   "name": "python",
   "nbconvert_exporter": "python",
   "pygments_lexer": "ipython3",
   "version": "3.12.3"
  }
 },
 "nbformat": 4,
 "nbformat_minor": 5
}
